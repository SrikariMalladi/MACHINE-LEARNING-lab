{
 "cells": [
  {
   "cell_type": "markdown",
   "id": "9b5f508f",
   "metadata": {},
   "source": [
    "## LAB-5                            \n",
    "                                                                                              -M.Naga Charitavya\n",
    "                                                                                                AP21110010027"
   ]
  },
  {
   "cell_type": "markdown",
   "id": "a5feaf8b",
   "metadata": {},
   "source": [
    "### 1.Write a program to demonstrate the working of the decision tree. Use an given data set for building the decision tree and apply this knowledge to classify a new sample.\n",
    "#### Dataset name: weatherdata.csv"
   ]
  },
  {
   "cell_type": "code",
   "execution_count": 1,
   "id": "f5dddb1b",
   "metadata": {},
   "outputs": [],
   "source": [
    "import pandas as pd\n",
    "from sklearn.tree import DecisionTreeClassifier\n",
    "from sklearn.model_selection import train_test_split\n",
    "from sklearn.metrics import accuracy_score"
   ]
  },
  {
   "cell_type": "code",
   "execution_count": 2,
   "id": "c7068b04",
   "metadata": {},
   "outputs": [
    {
     "name": "stdout",
     "output_type": "stream",
     "text": [
      "     Outlook Temperature Humidity    Wind Answer\n",
      "0      sunny         hot     high    weak     no\n",
      "1      sunny         hot     high  strong     no\n",
      "2   overcast         hot     high    weak    yes\n",
      "3       rain        mild     high    weak    yes\n",
      "4       rain        cool   normal    weak    yes\n",
      "5       rain        cool   normal  strong     no\n",
      "6   overcast        cool   normal  strong    yes\n",
      "7      sunny        mild     high    weak     no\n",
      "8      sunny        cool   normal    weak    yes\n",
      "9       rain        mild   normal    weak    yes\n",
      "10     sunny        mild   normal  strong    yes\n",
      "11  overcast        mild     high  strong    yes\n",
      "12  overcast         hot   normal    weak    yes\n",
      "13      rain        mild     high  strong     no\n",
      "14      rain        cool   normal  strong   yes \n",
      "15     sunny        mild   normal  strong     no\n"
     ]
    }
   ],
   "source": [
    "df = pd.read_csv(\"weatherdata.csv\")\n",
    "print(df)"
   ]
  },
  {
   "cell_type": "code",
   "execution_count": 3,
   "id": "fdf5c28a",
   "metadata": {},
   "outputs": [
    {
     "name": "stdout",
     "output_type": "stream",
     "text": [
      "    Outlook Temperature Humidity    Wind Answer\n",
      "0     sunny         hot     high    weak     no\n",
      "1     sunny         hot     high  strong     no\n",
      "2  overcast         hot     high    weak    yes\n",
      "3      rain        mild     high    weak    yes\n",
      "4      rain        cool   normal    weak    yes\n"
     ]
    }
   ],
   "source": [
    "print(df.head())"
   ]
  },
  {
   "cell_type": "code",
   "execution_count": 4,
   "id": "0d60a449",
   "metadata": {},
   "outputs": [
    {
     "name": "stdout",
     "output_type": "stream",
     "text": [
      "     Outlook Temperature Humidity    Wind Answer\n",
      "11  overcast        mild     high  strong    yes\n",
      "12  overcast         hot   normal    weak    yes\n",
      "13      rain        mild     high  strong     no\n",
      "14      rain        cool   normal  strong   yes \n",
      "15     sunny        mild   normal  strong     no\n"
     ]
    }
   ],
   "source": [
    "print(df.tail())"
   ]
  },
  {
   "cell_type": "code",
   "execution_count": 17,
   "id": "aa58e462",
   "metadata": {},
   "outputs": [
    {
     "name": "stdout",
     "output_type": "stream",
     "text": [
      "Predicted class for the new sample: no\n"
     ]
    }
   ],
   "source": [
    "# Prepare the data\n",
    "X = pd.get_dummies(df.drop('Answer', axis=1))  # Features\n",
    "y = df['Answer']  # Target variable\n",
    "\n",
    "clf = DecisionTreeClassifier()\n",
    "\n",
    "clf.fit(X, y)\n",
    "\n",
    "# Classify a new sample\n",
    "new_sample = pd.DataFrame([['sunny', 'cool', 'high', 'strong']], columns=['Outlook', 'Temperature', 'Humidity', 'Wind'])\n",
    "new_sample_encoded = pd.get_dummies(new_sample)\n",
    "\n",
    "# Ensure the new sample has the same columns as X\n",
    "for col in X.columns:\n",
    "    if col not in new_sample_encoded.columns:\n",
    "        new_sample_encoded[col] = 0\n",
    "\n",
    "# Reorder columns to match X\n",
    "new_sample_encoded = new_sample_encoded[X.columns]\n",
    "\n",
    "# Predict using the classifier\n",
    "predicted_class = clf.predict(new_sample_encoded)\n",
    "print(\"Predicted class for the new sample:\", predicted_class[0])"
   ]
  },
  {
   "cell_type": "markdown",
   "id": "aee77ed9",
   "metadata": {},
   "source": [
    "### 2. Imagine that you are a medical researcher compiling data for a study.You have collected data about a set of patients, all of whom suffered from the same illness. During their course of treatment, each patient responded to one of 5 medications, Drug A, Drug B, Drug c, Drug x and y.Part of your job is to build a model to find out which drug might be appropriate for a future patient with the same illness. The feature sets of this dataset are Age, Sex, Blood Pressure, and Cholesterol of patients, and the target is the drug that each patient responded to.It is a sample of binary classifier, and you can use the training part of the dataset to build a decision tree, and then use it to predict the class of aunknown patient, or to prescribe it to a new patient.\n",
    "#### Dataset name:drugdata.csv"
   ]
  },
  {
   "cell_type": "code",
   "execution_count": 23,
   "id": "b059f9be",
   "metadata": {},
   "outputs": [],
   "source": [
    "import pandas as pd\n",
    "from sklearn.tree import DecisionTreeClassifier\n",
    "from sklearn.model_selection import train_test_split"
   ]
  },
  {
   "cell_type": "code",
   "execution_count": 24,
   "id": "1c57e933",
   "metadata": {},
   "outputs": [],
   "source": [
    "data = pd.read_csv(\"drugdata.csv\")\n",
    "\n",
    "X = data[['Age', 'Sex', 'BP', 'Cholesterol']]  # Features\n",
    "X = pd.get_dummies(X)  # Convert categorical variables into dummy/indicator variables\n",
    "y = data['Drug']  # Target variable"
   ]
  },
  {
   "cell_type": "code",
   "execution_count": 26,
   "id": "3cb2f082",
   "metadata": {},
   "outputs": [],
   "source": [
    "X_train, X_test, y_train, y_test = train_test_split(X, y, test_size=0.2, random_state=42)"
   ]
  },
  {
   "cell_type": "code",
   "execution_count": 29,
   "id": "75f8c6f9",
   "metadata": {},
   "outputs": [
    {
     "name": "stdout",
     "output_type": "stream",
     "text": [
      "Predicted drug for the new patient: drugY\n"
     ]
    }
   ],
   "source": [
    "clf = DecisionTreeClassifier()\n",
    "\n",
    "clf.fit(X_train, y_train)\n",
    "\n",
    "new_patient = pd.DataFrame([[50, 'M', 'High', 'High']], columns=['Age', 'Sex', 'Blood Pressure', 'Cholesterol'])\n",
    "new_patient = pd.get_dummies(new_patient)  # Encode categorical variables\n",
    "\n",
    "# Ensure new patient has the same columns as X_train\n",
    "missing_cols = set(X_train.columns) - set(new_patient.columns)\n",
    "for col in missing_cols:\n",
    "    new_patient[col] = 0\n",
    "new_patient = new_patient[X_train.columns]  # Reorder columns to match X_train\n",
    "\n",
    "# Predict the drug for the new patient\n",
    "predicted_drug = clf.predict(new_patient)\n",
    "print(\"Predicted drug for the new patient:\", predicted_drug[0])"
   ]
  },
  {
   "cell_type": "code",
   "execution_count": null,
   "id": "ffe591d8",
   "metadata": {},
   "outputs": [],
   "source": []
  }
 ],
 "metadata": {
  "kernelspec": {
   "display_name": "Python 3 (ipykernel)",
   "language": "python",
   "name": "python3"
  },
  "language_info": {
   "codemirror_mode": {
    "name": "ipython",
    "version": 3
   },
   "file_extension": ".py",
   "mimetype": "text/x-python",
   "name": "python",
   "nbconvert_exporter": "python",
   "pygments_lexer": "ipython3",
   "version": "3.9.12"
  }
 },
 "nbformat": 4,
 "nbformat_minor": 5
}
