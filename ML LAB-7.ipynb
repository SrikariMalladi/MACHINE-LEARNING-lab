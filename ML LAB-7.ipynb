{
 "cells": [
  {
   "cell_type": "markdown",
   "id": "aa2c069d",
   "metadata": {},
   "source": [
    "## FEATURE ENGINEERING/PREPROCESSING\n",
    "\n",
    "\n",
    "\n",
    "                                                                                             - M.NAGA CHARITAVYA\n",
    "                                                                                                 AP21110010027"
   ]
  },
  {
   "cell_type": "markdown",
   "id": "9a671990",
   "metadata": {},
   "source": [
    "### 1. Create a vector (array) of 1XN dimension representing N-dimensional feature vector of a sample. Write a program to compute the mean and variance of the elements present in the array.  Comment what the mean and variance of sample represents."
   ]
  },
  {
   "cell_type": "code",
   "execution_count": 1,
   "id": "874bb698",
   "metadata": {},
   "outputs": [
    {
     "name": "stdout",
     "output_type": "stream",
     "text": [
      "Sample Vector: [ 2  5  7  9 11]\n",
      "Mean of Sample: 6.8\n",
      "Variance of Sample: 9.76\n",
      "\n",
      "Comments:\n",
      "The mean of the sample represents the average value of the elements in the vector.\n",
      "The variance of the sample represents the measure of how much the values in the vector vary from the mean value. It indicates the dispersion or spread of the values in the vector.\n"
     ]
    }
   ],
   "source": [
    "import numpy as np\n",
    "\n",
    "def compute_mean_variance(vector):\n",
    "    mean = np.mean(vector)\n",
    "    variance = np.var(vector)\n",
    "    return mean, variance\n",
    "\n",
    "# Example vector creation\n",
    "N = 5\n",
    "sample_vector = np.array([2, 5, 7, 9, 11])\n",
    "\n",
    "# Compute mean and variance\n",
    "mean, variance = compute_mean_variance(sample_vector)\n",
    "\n",
    "print(\"Sample Vector:\", sample_vector)\n",
    "print(\"Mean of Sample:\", mean)\n",
    "print(\"Variance of Sample:\", variance)\n",
    "\n",
    "# Comments on the mean and variance\n",
    "print(\"\\nComments:\")\n",
    "print(\"The mean of the sample represents the average value of the elements in the vector.\")\n",
    "print(\"The variance of the sample represents the measure of how much the values in the vector vary from the mean value. It indicates the dispersion or spread of the values in the vector.\")"
   ]
  },
  {
   "cell_type": "markdown",
   "id": "c68cf6e8",
   "metadata": {},
   "source": [
    "### 2. Create two vectors each of dimension 1XM each representing N-dimensional feature vector of a sample. Write a program to compute the Covariance between them. Comment what Covariance between two vectors represents."
   ]
  },
  {
   "cell_type": "code",
   "execution_count": 2,
   "id": "ec2078d4",
   "metadata": {},
   "outputs": [
    {
     "name": "stdout",
     "output_type": "stream",
     "text": [
      "Vector 1: [1 2 3 4 5]\n",
      "Vector 2: [5 4 3 2 1]\n",
      "Covariance between Vector 1 and Vector 2: -2.5\n",
      "\n",
      "Comments:\n",
      "Covariance between two vectors represents how much the variables in the vectors change together. If the covariance is positive, it indicates that the variables tend to increase or decrease together. If negative, one variable tends to increase when the other decreases. A covariance close to zero suggests that there is no linear relationship between the variables.\n"
     ]
    }
   ],
   "source": [
    "import numpy as np\n",
    "\n",
    "def compute_covariance(vector1, vector2):\n",
    "    covariance = np.cov(vector1, vector2)[0][1]\n",
    "    return covariance\n",
    "\n",
    "# Example vectors creation\n",
    "M = 5\n",
    "sample_vector1 = np.array([1, 2, 3, 4, 5])\n",
    "sample_vector2 = np.array([5, 4, 3, 2, 1])\n",
    "\n",
    "# Compute covariance\n",
    "covariance = compute_covariance(sample_vector1, sample_vector2)\n",
    "\n",
    "print(\"Vector 1:\", sample_vector1)\n",
    "print(\"Vector 2:\", sample_vector2)\n",
    "print(\"Covariance between Vector 1 and Vector 2:\", covariance)\n",
    "\n",
    "# Comment on covariance\n",
    "print(\"\\nComments:\")\n",
    "print(\"Covariance between two vectors represents how much the variables in the vectors change together. If the covariance is positive, it indicates that the variables tend to increase or decrease together. If negative, one variable tends to increase when the other decreases. A covariance close to zero suggests that there is no linear relationship between the variables.\")\n"
   ]
  },
  {
   "cell_type": "markdown",
   "id": "deeac50f",
   "metadata": {},
   "source": [
    "### 3. Create two vectors each of dimension 1XN. Write a program to compute the Correlation between them. Comment what the Correlation represents."
   ]
  },
  {
   "cell_type": "code",
   "execution_count": 3,
   "id": "28764a93",
   "metadata": {},
   "outputs": [
    {
     "name": "stdout",
     "output_type": "stream",
     "text": [
      "Vector 1: [1 2 3 4 5 6]\n",
      "Vector 2: [6 5 4 3 2 1]\n",
      "Correlation between Vector 1 and Vector 2: -1.0\n",
      "\n",
      "Comments:\n",
      "Correlation measures the strength and direction of the linear relationship between two variables. A correlation value close to 1 indicates a strong positive linear relationship, meaning when one variable increases, the other tends to increase as well. A value close to -1 indicates a strong negative linear relationship, implying that when one variable increases, the other tends to decrease. A correlation value close to 0 suggests no linear relationship between the variables.\n"
     ]
    }
   ],
   "source": [
    "import numpy as np\n",
    "\n",
    "def compute_correlation(vector1, vector2):\n",
    "    correlation = np.corrcoef(vector1, vector2)[0][1]\n",
    "    return correlation\n",
    "\n",
    "# Example vectors creation\n",
    "N = 6\n",
    "vector1 = np.array([1, 2, 3, 4, 5, 6])\n",
    "vector2 = np.array([6, 5, 4, 3, 2, 1])\n",
    "\n",
    "# Compute correlation\n",
    "correlation = compute_correlation(vector1, vector2)\n",
    "\n",
    "print(\"Vector 1:\", vector1)\n",
    "print(\"Vector 2:\", vector2)\n",
    "print(\"Correlation between Vector 1 and Vector 2:\", correlation)\n",
    "\n",
    "# Comment on correlation\n",
    "print(\"\\nComments:\")\n",
    "print(\"Correlation measures the strength and direction of the linear relationship between two variables. A correlation value close to 1 indicates a strong positive linear relationship, meaning when one variable increases, the other tends to increase as well. A value close to -1 indicates a strong negative linear relationship, implying that when one variable increases, the other tends to decrease. A correlation value close to 0 suggests no linear relationship between the variables.\")\n"
   ]
  },
  {
   "cell_type": "markdown",
   "id": "6f438602",
   "metadata": {},
   "source": [
    "### 4. Create a Matrix of MXN dimension representing the M-dimensional feature vector for N number of samples i. e (i,j)th entry of the matrix represents the ith feature of jth sample. Write a program to compute the covariance matrix and correlation matrix. Comment on takeaways from these matrixes."
   ]
  },
  {
   "cell_type": "code",
   "execution_count": 4,
   "id": "ee79b8bc",
   "metadata": {},
   "outputs": [
    {
     "name": "stdout",
     "output_type": "stream",
     "text": [
      "Sample Matrix:\n",
      "[[ 1  2  3  4]\n",
      " [ 5  6  7  8]\n",
      " [ 9 10 11 12]]\n",
      "\n",
      "Covariance Matrix:\n",
      "[[1.66666667 1.66666667 1.66666667]\n",
      " [1.66666667 1.66666667 1.66666667]\n",
      " [1.66666667 1.66666667 1.66666667]]\n",
      "\n",
      "Correlation Matrix:\n",
      "[[1. 1. 1.]\n",
      " [1. 1. 1.]\n",
      " [1. 1. 1.]]\n",
      "\n",
      "Comments:\n",
      "1. Covariance Matrix:\n",
      "- Diagonal elements represent the variance of each feature.\n",
      "- Off-diagonal elements represent the covariance between pairs of features.\n",
      "- Positive values indicate that the features increase or decrease together, while negative values indicate that they vary in opposite directions.\n",
      "\n",
      "2. Correlation Matrix:\n",
      "- Diagonal elements are always 1, as they represent the correlation of a feature with itself (perfect correlation).\n",
      "- Values close to 1 indicate strong positive linear relationships between features.\n",
      "- Values close to -1 indicate strong negative linear relationships between features.\n",
      "- Values close to 0 indicate weak or no linear relationship between features.\n"
     ]
    }
   ],
   "source": [
    "import numpy as np\n",
    "\n",
    "def compute_covariance_matrix(matrix):\n",
    "    covariance_matrix = np.cov(matrix)\n",
    "    return covariance_matrix\n",
    "\n",
    "def compute_correlation_matrix(matrix):\n",
    "    correlation_matrix = np.corrcoef(matrix)\n",
    "    return correlation_matrix\n",
    "\n",
    "# Example matrix creation\n",
    "M = 3  # Number of features\n",
    "N = 4  # Number of samples\n",
    "sample_matrix = np.array([[1, 2, 3, 4],\n",
    "                          [5, 6, 7, 8],\n",
    "                          [9, 10, 11, 12]])  \n",
    "\n",
    "# Compute covariance matrix\n",
    "covariance_matrix = compute_covariance_matrix(sample_matrix)\n",
    "\n",
    "# Compute correlation matrix\n",
    "correlation_matrix = compute_correlation_matrix(sample_matrix)\n",
    "\n",
    "print(\"Sample Matrix:\")\n",
    "print(sample_matrix)\n",
    "print(\"\\nCovariance Matrix:\")\n",
    "print(covariance_matrix)\n",
    "print(\"\\nCorrelation Matrix:\")\n",
    "print(correlation_matrix)\n",
    "\n",
    "# Comment on takeaways\n",
    "print(\"\\nComments:\")\n",
    "print(\"1. Covariance Matrix:\")\n",
    "print(\"- Diagonal elements represent the variance of each feature.\")\n",
    "print(\"- Off-diagonal elements represent the covariance between pairs of features.\")\n",
    "print(\"- Positive values indicate that the features increase or decrease together, while negative values indicate that they vary in opposite directions.\")\n",
    "\n",
    "print(\"\\n2. Correlation Matrix:\")\n",
    "print(\"- Diagonal elements are always 1, as they represent the correlation of a feature with itself (perfect correlation).\")\n",
    "print(\"- Values close to 1 indicate strong positive linear relationships between features.\")\n",
    "print(\"- Values close to -1 indicate strong negative linear relationships between features.\")\n",
    "print(\"- Values close to 0 indicate weak or no linear relationship between features.\")\n"
   ]
  },
  {
   "cell_type": "code",
   "execution_count": null,
   "id": "2f6b0a08",
   "metadata": {},
   "outputs": [],
   "source": []
  }
 ],
 "metadata": {
  "kernelspec": {
   "display_name": "Python 3 (ipykernel)",
   "language": "python",
   "name": "python3"
  },
  "language_info": {
   "codemirror_mode": {
    "name": "ipython",
    "version": 3
   },
   "file_extension": ".py",
   "mimetype": "text/x-python",
   "name": "python",
   "nbconvert_exporter": "python",
   "pygments_lexer": "ipython3",
   "version": "3.9.12"
  }
 },
 "nbformat": 4,
 "nbformat_minor": 5
}
