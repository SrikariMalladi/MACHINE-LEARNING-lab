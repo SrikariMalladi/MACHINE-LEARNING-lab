{
  "nbformat": 4,
  "nbformat_minor": 0,
  "metadata": {
    "colab": {
      "provenance": [],
      "authorship_tag": "ABX9TyNYnXjBELA1KqY6Vv6AVCoN",
      "include_colab_link": true
    },
    "kernelspec": {
      "name": "python3",
      "display_name": "Python 3"
    },
    "language_info": {
      "name": "python"
    }
  },
  "cells": [
    {
      "cell_type": "markdown",
      "metadata": {
        "id": "view-in-github",
        "colab_type": "text"
      },
      "source": [
        "<a href=\"https://colab.research.google.com/github/SrikariMalladi/MACHINE-LEARNING-lab-task--1/blob/main/ml_labb.ipynb\" target=\"_parent\"><img src=\"https://colab.research.google.com/assets/colab-badge.svg\" alt=\"Open In Colab\"/></a>"
      ]
    },
    {
      "cell_type": "markdown",
      "source": [
        "Srikari malladi\n",
        "Cse A\n",
        "AP21110010036\n",
        "**bold text**"
      ],
      "metadata": {
        "id": "rRs9yBkAdQ4l"
      }
    },
    {
      "cell_type": "markdown",
      "source": [
        "1. Write a Pandas program to convert Series of lists to one Series."
      ],
      "metadata": {
        "id": "ev-_B8MGfuTI"
      }
    },
    {
      "cell_type": "code",
      "source": [
        "import pandas as pd\n",
        "data = pd.Series([[1, 2, 3], [4, 5], [6, 7, 8]])\n",
        "result = data.explode()\n",
        "print(result)\n"
      ],
      "metadata": {
        "colab": {
          "base_uri": "https://localhost:8080/"
        },
        "id": "FXL9T3P3dLT0",
        "outputId": "3e3574c3-f01d-4edc-b419-6a074d736593"
      },
      "execution_count": 1,
      "outputs": [
        {
          "output_type": "stream",
          "name": "stdout",
          "text": [
            "0    1\n",
            "0    2\n",
            "0    3\n",
            "1    4\n",
            "1    5\n",
            "2    6\n",
            "2    7\n",
            "2    8\n",
            "dtype: object\n"
          ]
        }
      ]
    },
    {
      "cell_type": "markdown",
      "source": [
        "2. Write a Pandas program to create a subset of a given series based on value and condition."
      ],
      "metadata": {
        "id": "JkhONm4Mfyau"
      }
    },
    {
      "cell_type": "code",
      "source": [
        "import pandas as pd\n",
        "data = pd.Series([10, 20, 30, 40, 50])\n",
        "condition = data > 30\n",
        "subset = data[condition]\n",
        "print(subset)\n"
      ],
      "metadata": {
        "colab": {
          "base_uri": "https://localhost:8080/"
        },
        "id": "dX59MbjuXwTY",
        "outputId": "fa23e80b-5dd5-470a-b73e-fa607577ad44"
      },
      "execution_count": null,
      "outputs": [
        {
          "output_type": "stream",
          "name": "stdout",
          "text": [
            "3    40\n",
            "4    50\n",
            "dtype: int64\n"
          ]
        }
      ]
    },
    {
      "cell_type": "markdown",
      "source": [
        "3. Write a Pandas program to display most frequent value in a given series and replace\n",
        "everything else as &#39;Other&#39; in the series."
      ],
      "metadata": {
        "id": "NOeWNStCf4mu"
      }
    },
    {
      "cell_type": "code",
      "source": [
        "import pandas as pd\n",
        "data = pd.Series([1, 2, 2, 3, 3, 3, 4, 4, 4, 4])\n",
        "most_frequent_value = data.mode()[0]\n",
        "data.loc[data != most_frequent_value] = 'Other'\n",
        "print(data)\n"
      ],
      "metadata": {
        "colab": {
          "base_uri": "https://localhost:8080/"
        },
        "id": "2T50Wz1UX73C",
        "outputId": "f1845e41-8917-4d2c-a3aa-5f31b7c99eed"
      },
      "execution_count": null,
      "outputs": [
        {
          "output_type": "stream",
          "name": "stdout",
          "text": [
            "0    Other\n",
            "1    Other\n",
            "2    Other\n",
            "3    Other\n",
            "4    Other\n",
            "5    Other\n",
            "6        4\n",
            "7        4\n",
            "8        4\n",
            "9        4\n",
            "dtype: object\n"
          ]
        }
      ]
    },
    {
      "cell_type": "markdown",
      "source": [
        "4. Write a Pandas program to find the positions of numbers that are multiples of 5 of a\n",
        "given series."
      ],
      "metadata": {
        "id": "rFRroQ8hf9A_"
      }
    },
    {
      "cell_type": "code",
      "source": [
        "import pandas as pd\n",
        "data = pd.Series([1, 5, 10, 15, 20, 25, 30])\n",
        "positions = data[data % 5 == 0].index\n",
        "print(\"Positions of numbers that are multiples of 5:\", positions)\n"
      ],
      "metadata": {
        "colab": {
          "base_uri": "https://localhost:8080/"
        },
        "id": "_s_XK70xaQ92",
        "outputId": "58596177-e4a9-46b7-e002-9b2c32efd476"
      },
      "execution_count": null,
      "outputs": [
        {
          "output_type": "stream",
          "name": "stdout",
          "text": [
            "Positions of numbers that are multiples of 5: Int64Index([1, 2, 3, 4, 5, 6], dtype='int64')\n"
          ]
        }
      ]
    },
    {
      "cell_type": "markdown",
      "source": [
        "5. Write a Pandas program to calculate the number of characters in each word in a given\n",
        "series."
      ],
      "metadata": {
        "id": "d_TIUtrKgAJi"
      }
    },
    {
      "cell_type": "code",
      "source": [
        "import pandas as pd\n",
        "data = pd.Series(['apple', 'banana', 'cherry', 'date'])\n",
        "word_lengths = data.str.len()\n",
        "print(word_lengths)\n"
      ],
      "metadata": {
        "colab": {
          "base_uri": "https://localhost:8080/"
        },
        "id": "gU2AQwPfaZBz",
        "outputId": "e5365f90-a68b-4b57-ea9e-084a7042108c"
      },
      "execution_count": null,
      "outputs": [
        {
          "output_type": "stream",
          "name": "stdout",
          "text": [
            "0    5\n",
            "1    6\n",
            "2    6\n",
            "3    4\n",
            "dtype: int64\n"
          ]
        }
      ]
    },
    {
      "cell_type": "markdown",
      "source": [
        "6. Write a Pandas program to convert year-month string to dates adding a specified day\n",
        "of the month."
      ],
      "metadata": {
        "id": "THou2Uf2gDZ-"
      }
    },
    {
      "cell_type": "code",
      "source": [
        "import pandas as pd\n",
        "year_month_strings = pd.Series(['2022-01', '2022-02', '2022-03'])\n",
        "day_of_month_to_add = 15\n",
        "dates_with_added_day = pd.to_datetime(year_month_strings + '-' + str(day_of_month_to_add), format='%Y-%m-%d')\n",
        "print(dates_with_added_day)\n"
      ],
      "metadata": {
        "colab": {
          "base_uri": "https://localhost:8080/"
        },
        "id": "kBsO9igqalnK",
        "outputId": "8272cf66-ecae-4497-cb7e-1c63be4ffbc4"
      },
      "execution_count": null,
      "outputs": [
        {
          "output_type": "stream",
          "name": "stdout",
          "text": [
            "0   2022-01-15\n",
            "1   2022-02-15\n",
            "2   2022-03-15\n",
            "dtype: datetime64[ns]\n"
          ]
        }
      ]
    },
    {
      "cell_type": "markdown",
      "source": [
        "7. Write a Pandas program to create and display a DataFrame from a specified\n",
        "dictionary data which has the index labels."
      ],
      "metadata": {
        "id": "nfyA5FzmgGgF"
      }
    },
    {
      "cell_type": "code",
      "source": [
        "import pandas as pd\n",
        "data = {\n",
        "    'Name': ['Seekaa', 'Siri', 'kanna'],\n",
        "    'Age': [22, 30, 25],\n",
        "    'City': ['New York', 'Los Angeles', 'Chicago']\n",
        "}\n",
        "index_labels = ['Person1', 'Person2', 'Person3']\n",
        "df = pd.DataFrame(data, index=index_labels)\n",
        "print(df)\n"
      ],
      "metadata": {
        "colab": {
          "base_uri": "https://localhost:8080/"
        },
        "id": "hkOwThbnatyd",
        "outputId": "f81a4e8d-a82d-4b75-edad-f0480d7c5a4f"
      },
      "execution_count": 2,
      "outputs": [
        {
          "output_type": "stream",
          "name": "stdout",
          "text": [
            "           Name  Age         City\n",
            "Person1  Seekaa   22     New York\n",
            "Person2    Siri   30  Los Angeles\n",
            "Person3   kanna   25      Chicago\n"
          ]
        }
      ]
    },
    {
      "cell_type": "markdown",
      "source": [
        "8. Write a Pandas program to select the rows where the number of attempts in the\n",
        "examination is greater than 2."
      ],
      "metadata": {
        "id": "STKldLGXgKLm"
      }
    },
    {
      "cell_type": "code",
      "source": [
        "import pandas as pd\n",
        "data = {\n",
        "    'Student': ['Seekaa', 'kanna', 'Siri', 'Lakshmi'],\n",
        "    'Attempts': [1, 3, 2, 4]\n",
        "}\n",
        "\n",
        "df = pd.DataFrame(data)\n",
        "result = df[df['Attempts'] > 2]\n",
        "print(result)\n"
      ],
      "metadata": {
        "colab": {
          "base_uri": "https://localhost:8080/"
        },
        "id": "Mc6Pn0S2a1d4",
        "outputId": "917e2c8c-722a-4091-b24e-823dc6cc8486"
      },
      "execution_count": 3,
      "outputs": [
        {
          "output_type": "stream",
          "name": "stdout",
          "text": [
            "   Student  Attempts\n",
            "1    kanna         3\n",
            "3  Lakshmi         4\n"
          ]
        }
      ]
    },
    {
      "cell_type": "markdown",
      "source": [
        "9. Write a Pandas program to append a new row &#39;k&#39; to data frame with given values for\n",
        "each column. Now delete the new row and return the original DataFrame."
      ],
      "metadata": {
        "id": "uGyYWaGggM8g"
      }
    },
    {
      "cell_type": "code",
      "source": [
        "import pandas as pd\n",
        "data = {\n",
        "    'Name': ['Seekaa', 'kanna', 'Siri'],\n",
        "    'Age': [22, 30, 25],\n",
        "    'City': ['New York', 'Los Angeles', 'Chicago']\n",
        "}\n",
        "\n",
        "df = pd.DataFrame(data)\n",
        "print(\"Original DataFrame:\")\n",
        "print(df)\n",
        "new_row_values = {'Name': 'krishna', 'Age': 28, 'City': 'Seattle'}\n",
        "df = df.append(new_row_values, ignore_index=True)\n",
        "print(\"\\nDataFrame after appending 'k' row:\")\n",
        "print(df)\n",
        "df = df.drop(index=df[df['Name'] == 'Krishna'].index)\n",
        "print(\"\\nOriginal DataFrame after deleting 'k' row:\")\n",
        "print(df)\n"
      ],
      "metadata": {
        "colab": {
          "base_uri": "https://localhost:8080/"
        },
        "id": "ZXt79OFsa-Vo",
        "outputId": "eddb16c9-01e2-4063-869e-fde7891b35f3"
      },
      "execution_count": 4,
      "outputs": [
        {
          "output_type": "stream",
          "name": "stdout",
          "text": [
            "Original DataFrame:\n",
            "     Name  Age         City\n",
            "0  Seekaa   22     New York\n",
            "1   kanna   30  Los Angeles\n",
            "2    Siri   25      Chicago\n",
            "\n",
            "DataFrame after appending 'k' row:\n",
            "      Name  Age         City\n",
            "0   Seekaa   22     New York\n",
            "1    kanna   30  Los Angeles\n",
            "2     Siri   25      Chicago\n",
            "3  krishna   28      Seattle\n",
            "\n",
            "Original DataFrame after deleting 'k' row:\n",
            "      Name  Age         City\n",
            "0   Seekaa   22     New York\n",
            "1    kanna   30  Los Angeles\n",
            "2     Siri   25      Chicago\n",
            "3  krishna   28      Seattle\n"
          ]
        },
        {
          "output_type": "stream",
          "name": "stderr",
          "text": [
            "<ipython-input-4-438fe3b289e1>:12: FutureWarning: The frame.append method is deprecated and will be removed from pandas in a future version. Use pandas.concat instead.\n",
            "  df = df.append(new_row_values, ignore_index=True)\n"
          ]
        }
      ]
    },
    {
      "cell_type": "markdown",
      "source": [
        "10. Write a Pandas program to sort the DataFrame first by &#39;name&#39; in descending order,\n",
        "then by &#39;score&#39; in ascending order."
      ],
      "metadata": {
        "id": "KVVppKNygQoN"
      }
    },
    {
      "cell_type": "code",
      "source": [
        "import pandas as pd\n",
        "data = {\n",
        "    'Name': ['Seekaa', 'Siri', ' kanna ', 'Lakshmi', 'Krishna'],\n",
        "    'Score': [85, 92, 78, 90, 88]\n",
        "}\n",
        "\n",
        "df = pd.DataFrame(data)\n",
        "print(\"Original DataFrame:\")\n",
        "print(df)\n",
        "df_sorted = df.sort_values(by=['Name', 'Score'], ascending=[False, True])\n",
        "print(\"\\nDataFrame after sorting:\")\n",
        "print(df_sorted)\n"
      ],
      "metadata": {
        "colab": {
          "base_uri": "https://localhost:8080/"
        },
        "id": "WVAieI22bKc1",
        "outputId": "10b27948-115b-4884-b5a5-c7099801f2ad"
      },
      "execution_count": 5,
      "outputs": [
        {
          "output_type": "stream",
          "name": "stdout",
          "text": [
            "Original DataFrame:\n",
            "      Name  Score\n",
            "0   Seekaa     85\n",
            "1     Siri     92\n",
            "2   kanna      78\n",
            "3  Lakshmi     90\n",
            "4  Krishna     88\n",
            "\n",
            "DataFrame after sorting:\n",
            "      Name  Score\n",
            "1     Siri     92\n",
            "0   Seekaa     85\n",
            "3  Lakshmi     90\n",
            "4  Krishna     88\n",
            "2   kanna      78\n"
          ]
        }
      ]
    },
    {
      "cell_type": "markdown",
      "source": [
        "11. Write a Pandas program to replace the &#39;qualify&#39; column contains the values &#39;yes&#39; and\n",
        "&#39;no&#39; with True and False."
      ],
      "metadata": {
        "id": "fNCGkujAgT4z"
      }
    },
    {
      "cell_type": "code",
      "source": [
        "import pandas as pd\n",
        "data = {\n",
        "    'Name': ['Seekaa', ' kanna ', ' Siri', 'Lakshmi', 'Krishna'],\n",
        "    'Qualify': ['yes', 'no', 'yes', 'no', 'yes']\n",
        "}\n",
        "\n",
        "df = pd.DataFrame(data)\n",
        "print(\"Original DataFrame:\")\n",
        "print(df)\n",
        "df['Qualify'] = df['Qualify'].replace({'yes': True, 'no': False})\n",
        "print(\"\\nDataFrame after replacing values:\")\n",
        "print(df)\n"
      ],
      "metadata": {
        "colab": {
          "base_uri": "https://localhost:8080/"
        },
        "id": "iVcNLoh4bVc_",
        "outputId": "dbffa70d-c14f-4e85-e3e7-79dafa18ab59"
      },
      "execution_count": 6,
      "outputs": [
        {
          "output_type": "stream",
          "name": "stdout",
          "text": [
            "Original DataFrame:\n",
            "      Name Qualify\n",
            "0   Seekaa     yes\n",
            "1   kanna       no\n",
            "2     Siri     yes\n",
            "3  Lakshmi      no\n",
            "4  Krishna     yes\n",
            "\n",
            "DataFrame after replacing values:\n",
            "      Name  Qualify\n",
            "0   Seekaa     True\n",
            "1   kanna     False\n",
            "2     Siri     True\n",
            "3  Lakshmi    False\n",
            "4  Krishna     True\n"
          ]
        }
      ]
    },
    {
      "cell_type": "markdown",
      "source": [
        "12. Write a Pandas program to remove infinite values from a given DataFrame."
      ],
      "metadata": {
        "id": "DeBWsC85gXyS"
      }
    },
    {
      "cell_type": "code",
      "source": [
        "import pandas as pd\n",
        "import numpy as np\n",
        "data = {\n",
        "    'A': [1, 2, np.inf, 4, 5],\n",
        "    'B': [np.inf, 8, 9, 10, 11]\n",
        "}\n",
        "\n",
        "df = pd.DataFrame(data)\n",
        "print(\"Original DataFrame:\")\n",
        "print(df)\n",
        "df.replace([np.inf, -np.inf], np.nan, inplace=True)\n",
        "df = df.dropna()\n",
        "print(\"\\nDataFrame after removing infinite values:\")\n",
        "print(df)\n"
      ],
      "metadata": {
        "colab": {
          "base_uri": "https://localhost:8080/"
        },
        "id": "6Z0m47DJbe3x",
        "outputId": "62feb906-51c3-4907-d33e-1a3ce957aa1b"
      },
      "execution_count": null,
      "outputs": [
        {
          "output_type": "stream",
          "name": "stdout",
          "text": [
            "Original DataFrame:\n",
            "     A     B\n",
            "0  1.0   inf\n",
            "1  2.0   8.0\n",
            "2  inf   9.0\n",
            "3  4.0  10.0\n",
            "4  5.0  11.0\n",
            "\n",
            "DataFrame after removing infinite values:\n",
            "     A     B\n",
            "1  2.0   8.0\n",
            "3  4.0  10.0\n",
            "4  5.0  11.0\n"
          ]
        }
      ]
    },
    {
      "cell_type": "markdown",
      "source": [
        "NUMPY s\n",
        "Introduction to NumPy\n",
        "NumPy is a Python library that handles numerical computation. It supports large, multidimensional arrays and matrices, as well as mathematical functions that can be applied to them. The efficiency and versatility of NumPy make it popular in scientific computing, data analysis, and machine learning.\n"
      ],
      "metadata": {
        "id": "4sSVKO3WeXrQ"
      }
    },
    {
      "cell_type": "markdown",
      "source": [
        "1. Write a NumPy program to multiply two given arrays of same size element-by-element."
      ],
      "metadata": {
        "id": "WQIa2GHvfMO5"
      }
    },
    {
      "cell_type": "code",
      "source": [
        "import numpy as np\n",
        "array1 = np.array([1, 2, 3, 4])\n",
        "array2 = np.array([5, 6, 7, 8])\n",
        "result_array = array1 * array2\n",
        "print(\"Array 1:\", array1)\n",
        "print(\"Array 2:\", array2)\n",
        "print(\"Resultant Array (element-wise multiplication):\", result_array)\n"
      ],
      "metadata": {
        "colab": {
          "base_uri": "https://localhost:8080/"
        },
        "id": "gmLY_v7Uk5LV",
        "outputId": "c9cb33a4-381a-4592-c573-efff03296e73"
      },
      "execution_count": null,
      "outputs": [
        {
          "output_type": "stream",
          "name": "stdout",
          "text": [
            "Array 1: [1 2 3 4]\n",
            "Array 2: [5 6 7 8]\n",
            "Resultant Array (element-wise multiplication): [ 5 12 21 32]\n"
          ]
        }
      ]
    },
    {
      "cell_type": "markdown",
      "source": [
        "2. Write a NumPy program to find the missing data in a given array."
      ],
      "metadata": {
        "id": "ep6IyKO6fN7H"
      }
    },
    {
      "cell_type": "code",
      "source": [
        "import numpy as np\n",
        "data_array = np.array([1.0, 2.0, np.nan, 4.0, 5.0, np.nan, 7.0, 8.0])\n",
        "missing_data_mask = np.isnan(data_array)\n",
        "missing_data_indices = np.where(missing_data_mask)[0]\n",
        "print(\"Original Array with Missing Data:\", data_array)\n",
        "print(\"Missing Data Mask:\", missing_data_mask)\n",
        "print(\"Indices of Missing Data:\", missing_data_indices)\n"
      ],
      "metadata": {
        "colab": {
          "base_uri": "https://localhost:8080/"
        },
        "id": "5kAzhOSWk8CD",
        "outputId": "310065dc-1bda-445d-d0d6-91c13921e86f"
      },
      "execution_count": null,
      "outputs": [
        {
          "output_type": "stream",
          "name": "stdout",
          "text": [
            "Original Array with Missing Data: [ 1.  2. nan  4.  5. nan  7.  8.]\n",
            "Missing Data Mask: [False False  True False False  True False False]\n",
            "Indices of Missing Data: [2 5]\n"
          ]
        }
      ]
    },
    {
      "cell_type": "markdown",
      "source": [
        "3. Write a NumPy program to test whether each element of a 1-D array is also present in a second array."
      ],
      "metadata": {
        "id": "30SE64XOfTvL"
      }
    },
    {
      "cell_type": "code",
      "source": [
        "import numpy as np\n",
        "\n",
        "# Create two arrays\n",
        "array1 = np.array([1, 2, 3, 4, 5])\n",
        "array2 = np.array([3, 5, 7, 9, 11])\n",
        "result = np.isin(array1, array2)\n",
        "print(\"Array 1:\", array1)\n",
        "print(\"Array 2:\", array2)\n",
        "print(\"Result (Is each element of array1 present in array2?):\", result)\n"
      ],
      "metadata": {
        "colab": {
          "base_uri": "https://localhost:8080/"
        },
        "id": "SFgCSsH8k_3N",
        "outputId": "f0b3a25d-9f15-4fe8-98ca-d49f4ecd2d78"
      },
      "execution_count": null,
      "outputs": [
        {
          "output_type": "stream",
          "name": "stdout",
          "text": [
            "Array 1: [1 2 3 4 5]\n",
            "Array 2: [ 3  5  7  9 11]\n",
            "Result (Is each element of array1 present in array2?): [False False  True False  True]\n"
          ]
        }
      ]
    },
    {
      "cell_type": "markdown",
      "source": [
        "4 .Write a NumPy program to save a NumPy array to a text file."
      ],
      "metadata": {
        "id": "VOuapNNYfe8m"
      }
    },
    {
      "cell_type": "code",
      "source": [
        "import numpy as np\n",
        "my_array = np.array([[1, 2, 3],\n",
        "                     [4, 5, 6],\n",
        "                     [7, 8, 9]])\n",
        "file_path = \"output_array.txt\"\n",
        "np.savetxt(file_path, my_array, fmt='%d', delimiter=',')\n",
        "\n",
        "print(f\"Array has been saved to {file_path}\")\n"
      ],
      "metadata": {
        "colab": {
          "base_uri": "https://localhost:8080/"
        },
        "id": "Yqp4Efq1lDX8",
        "outputId": "f38d9b00-bc14-4cf9-fdfe-c4694a2cd885"
      },
      "execution_count": null,
      "outputs": [
        {
          "output_type": "stream",
          "name": "stdout",
          "text": [
            "Array has been saved to output_array.txt\n"
          ]
        }
      ]
    },
    {
      "cell_type": "markdown",
      "source": [
        "5. Write a NumPy program to Create a 1-D array of 30 evenly spaced elements between 2.5. and 6.5, inclusive."
      ],
      "metadata": {
        "id": "Jj8xxWD3fkDv"
      }
    },
    {
      "cell_type": "code",
      "source": [
        "import numpy as np\n",
        "result_array = np.linspace(2.5, 6.5, 30)\n",
        "print(\"1-D Array of 30 evenly spaced elements between 2.5 and 6.5 (inclusive):\")\n",
        "print(result_array)\n"
      ],
      "metadata": {
        "colab": {
          "base_uri": "https://localhost:8080/"
        },
        "id": "dZSfIHnClGhH",
        "outputId": "6df0e778-d239-490a-ddc1-071b8c6f3ba7"
      },
      "execution_count": null,
      "outputs": [
        {
          "output_type": "stream",
          "name": "stdout",
          "text": [
            "1-D Array of 30 evenly spaced elements between 2.5 and 6.5 (inclusive):\n",
            "[2.5        2.63793103 2.77586207 2.9137931  3.05172414 3.18965517\n",
            " 3.32758621 3.46551724 3.60344828 3.74137931 3.87931034 4.01724138\n",
            " 4.15517241 4.29310345 4.43103448 4.56896552 4.70689655 4.84482759\n",
            " 4.98275862 5.12068966 5.25862069 5.39655172 5.53448276 5.67241379\n",
            " 5.81034483 5.94827586 6.0862069  6.22413793 6.36206897 6.5       ]\n"
          ]
        }
      ]
    }
  ]
}