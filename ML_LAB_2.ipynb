{
  "nbformat": 4,
  "nbformat_minor": 0,
  "metadata": {
    "colab": {
      "provenance": [],
      "authorship_tag": "ABX9TyO8UKzFBdnyolWxgoZWV92q",
      "include_colab_link": true
    },
    "kernelspec": {
      "name": "python3",
      "display_name": "Python 3"
    },
    "language_info": {
      "name": "python"
    }
  },
  "cells": [
    {
      "cell_type": "markdown",
      "metadata": {
        "id": "view-in-github",
        "colab_type": "text"
      },
      "source": [
        "<a href=\"https://colab.research.google.com/github/SrikariMalladi/MACHINE-LEARNING-lab-task--1/blob/main/ML_LAB_2.ipynb\" target=\"_parent\"><img src=\"https://colab.research.google.com/assets/colab-badge.svg\" alt=\"Open In Colab\"/></a>"
      ]
    },
    {
      "cell_type": "markdown",
      "source": [
        "Matplotlib is a numerical mathematics extension NumPy and a great package to view or present\n",
        "data in a pictorial or graphical format. It enables analysts and decision makers to see analytics\n",
        "presented visually, so they can grasp difficult concepts or identify new patterns.\n",
        "There are two broad ways of using pyplo.\n",
        "• Using Global Functions\n",
        "• Object Oriented approach"
      ],
      "metadata": {
        "id": "U040emzZH9gb"
      }
    },
    {
      "cell_type": "markdown",
      "source": [
        "Create a figure object called fig using plt.figure() , Use add_axes to add an axis to the figure canvas at [0,0,1,1]. Call this new axis ax."
      ],
      "metadata": {
        "id": "nXy6nW5JJnfX"
      }
    },
    {
      "cell_type": "code",
      "source": [],
      "metadata": {
        "colab": {
          "base_uri": "https://localhost:8080/",
          "height": 145
        },
        "id": "PNrD8LKzJmP-",
        "outputId": "00a3082e-393f-4f96-e6ed-8d649c01732b"
      },
      "execution_count": 6,
      "outputs": [
        {
          "output_type": "error",
          "ename": "SyntaxError",
          "evalue": "invalid syntax (<ipython-input-6-432876d05957>, line 4)",
          "traceback": [
            "\u001b[0;36m  File \u001b[0;32m\"<ipython-input-6-432876d05957>\"\u001b[0;36m, line \u001b[0;32m4\u001b[0m\n\u001b[0;31m    print(&quot;Values of X:&quot;)\u001b[0m\n\u001b[0m          ^\u001b[0m\n\u001b[0;31mSyntaxError\u001b[0m\u001b[0;31m:\u001b[0m invalid syntax\n"
          ]
        }
      ]
    }
  ]
}